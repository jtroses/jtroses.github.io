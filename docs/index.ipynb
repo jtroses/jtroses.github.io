{
  "cells": [
    {
      "cell_type": "markdown",
      "metadata": {},
      "source": [
        "# jtroses.github.io\n",
        "\n",
        "Janelle’s Machine Learning Blog"
      ],
      "id": "4f803143-12a2-4cff-95e8-61516c59089b"
    }
  ],
  "nbformat": 4,
  "nbformat_minor": 5,
  "metadata": {
    "kernelspec": {
      "display_name": "Python 3",
      "language": "python",
      "name": "python3"
    }
  }
}